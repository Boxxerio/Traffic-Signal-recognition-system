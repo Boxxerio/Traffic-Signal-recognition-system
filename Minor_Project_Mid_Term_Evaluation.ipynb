{
  "metadata": {
    "kernelspec": {
      "language": "python",
      "display_name": "Python 3",
      "name": "python3"
    },
    "language_info": {
      "pygments_lexer": "ipython3",
      "nbconvert_exporter": "python",
      "version": "3.6.4",
      "file_extension": ".py",
      "codemirror_mode": {
        "name": "ipython",
        "version": 3
      },
      "name": "python",
      "mimetype": "text/x-python"
    },
    "colab": {
      "provenance": []
    }
  },
  "nbformat_minor": 0,
  "nbformat": 4,
  "cells": [
    {
      "cell_type": "markdown",
      "source": [
        "Traffic sign recognition system"
      ],
      "metadata": {
        "id": "fL2mPAUNSbAy"
      }
    },
    {
      "cell_type": "code",
      "source": [
        "import numpy as np\n",
        "from matplotlib import pyplot as plt\n",
        "import pandas as pd\n",
        "pd.set_option('display.max_columns', None)\n",
        "from glob import glob\n",
        "import time\n",
        "from IPython.display import display\n",
        "\n",
        "import cv2\n",
        "from cv2 import imread\n",
        "from cv2 import resize as Resize\n",
        "from skimage.io import imread\n",
        "from skimage.transform import resize\n",
        "from sklearn.cluster import MiniBatchKMeans\n",
        "\n",
        "from sklearn.model_selection import train_test_split\n",
        "from sklearn import metrics as metrics\n",
        "from sklearn.model_selection import cross_validate\n",
        "from sklearn.decomposition import PCA\n",
        "from sklearn.model_selection import GridSearchCV\n",
        "from sklearn.preprocessing import PolynomialFeatures\n",
        "\n",
        "from sklearn.neural_network import MLPClassifier\n",
        "from sklearn.ensemble import RandomForestClassifier\n",
        "from sklearn.ensemble import VotingClassifier\n",
        "from sklearn.neighbors import KNeighborsClassifier\n",
        "\n",
        "np.random.seed(42)"
      ],
      "metadata": {
        "execution": {
          "iopub.status.busy": "2022-08-09T18:08:44.082681Z",
          "iopub.execute_input": "2022-08-09T18:08:44.083589Z",
          "iopub.status.idle": "2022-08-09T18:08:45.272116Z",
          "shell.execute_reply.started": "2022-08-09T18:08:44.083465Z",
          "shell.execute_reply": "2022-08-09T18:08:45.271022Z"
        },
        "trusted": true,
        "id": "QZNJ2Nr8Qf-X"
      },
      "execution_count": null,
      "outputs": []
    },
    {
      "cell_type": "markdown",
      "source": [
        "### ML functions"
      ],
      "metadata": {
        "id": "P2l9lx27Qf-X"
      }
    },
    {
      "cell_type": "code",
      "source": [
        "def myTimer(func):\n",
        "    def wrapper(*args, **kwargs):\n",
        "        t   = time.time()\n",
        "        ret = func(*args, **kwargs)\n",
        "        print('computation time = %s s' % (time.time() - t))\n",
        "        return(ret)\n",
        "    return(wrapper)\n",
        "\n",
        "@myTimer\n",
        "def doML(alg, settings, XTrain, YTrain, XTest, YTest, title=None):\n",
        "    if title:\n",
        "        print('====   %s   ====' % title)\n",
        "    else:\n",
        "        print('===========================================================================')\n",
        "    print(alg)\n",
        "    print(settings)\n",
        "    myAlg = alg(**settings)\n",
        "    myAlg.fit(XTrain, YTrain)\n",
        "    YPred = myAlg.predict(XTest)\n",
        "    print(metrics.classification_report(YTest, YPred))\n",
        "    print('===========================================================================')\n",
        "    return(myAlg)\n",
        "\n",
        "@myTimer\n",
        "def doCV(alg, grid, X, Y, title=None):\n",
        "    if title:\n",
        "        print('%s' % title)\n",
        "    else:\n",
        "        print('===========================================================================')\n",
        "\n",
        "    myGS = GridSearchCV(alg(), grid)\n",
        "    myGS.fit(X, Y)\n",
        "\n",
        "    res = pd.DataFrame(myGS.cv_results_)\n",
        "    display(res)\n",
        "    return(myGS)"
      ],
      "metadata": {
        "execution": {
          "iopub.status.busy": "2022-08-09T18:08:48.180197Z",
          "iopub.execute_input": "2022-08-09T18:08:48.180645Z",
          "iopub.status.idle": "2022-08-09T18:08:48.192741Z",
          "shell.execute_reply.started": "2022-08-09T18:08:48.180608Z",
          "shell.execute_reply": "2022-08-09T18:08:48.191333Z"
        },
        "trusted": true,
        "id": "Hf5uxrfrQf-X"
      },
      "execution_count": null,
      "outputs": []
    },
    {
      "cell_type": "markdown",
      "source": [
        "### Pre-Processing Pipeline\n",
        "    read single row of pandas dataFrame and load image\n",
        "    increase brightness\n",
        "    apply region of interest\n",
        "    scales according to nuShape\n",
        "    returns gray scale/colour image"
      ],
      "metadata": {
        "id": "vu2Y5kDRQf-Y"
      }
    },
    {
      "cell_type": "code",
      "source": [
        "def increase_brightness(img, value=20):\n",
        "    '''\n",
        "    Simple approach for improving image brightness\n",
        "    Input/output images in RGB\n",
        "    '''\n",
        "    hsv = cv2.cvtColor(img, cv2.COLOR_RGB2HSV)\n",
        "    h, s, v = cv2.split(hsv)\n",
        "\n",
        "    lim = 255 - value\n",
        "    v[v > lim] = 255\n",
        "    v[v <= lim] += value\n",
        "\n",
        "    final_hsv = cv2.merge((h, s, v))\n",
        "    img = cv2.cvtColor(final_hsv, cv2.COLOR_HSV2RGB)\n",
        "    return img\n",
        "\n",
        "def add_noise(img, mean=0, sigma=5):\n",
        "    '''\n",
        "    Add Gaussian noise to the image\n",
        "    '''\n",
        "    noisy_img = np.clip(img + np.random.normal(mean, sigma, img.shape), 0, 255).astype(np.uint8)\n",
        "    return noisy_img\n",
        "\n",
        "def transformIMG(pandasRow, newShape=(50, 50), color=False):\n",
        "    '''\n",
        "    Load csv file, load and pre-process image\n",
        "    Returns grayscale or color image\n",
        "    '''\n",
        "    img = np.asarray(imread('../input/gtsrb-german-traffic-sign/' + pandasRow['Path']))\n",
        "    img = cv2.cvtColor(img, cv2.COLOR_BGR2RGB)\n",
        "\n",
        "    imgBright = increase_brightness(img, value=40)\n",
        "    imgROI = imgBright[pandasRow['Roi.Y1']:pandasRow['Roi.Y2'], pandasRow['Roi.X1']:pandasRow['Roi.X2']]\n",
        "\n",
        "    # Adding noise to disrupt features\n",
        "    imgNoisy = add_noise(imgROI, sigma=50)\n",
        "\n",
        "    imgTrafo = cv2.resize(imgNoisy, newShape, interpolation=cv2.INTER_LINEAR)\n",
        "    imgGray = cv2.cvtColor(imgTrafo.astype(np.uint8), cv2.COLOR_RGB2GRAY)\n",
        "    return imgTrafo if color else imgGray\n",
        "\n",
        "def prepData(pdDataFrame, nuShape, col=False):\n",
        "    '''\n",
        "    load all images, call pre-processing\n",
        "    return table of flattened images and labels\n",
        "    '''\n",
        "    X, Y = [], []\n",
        "    x, y = np.ogrid[ 0:nuShape[0], 0:nuShape[0] ]\n",
        "    x, y = x - int(.5*nuShape[0]), y - int(.5*nuShape[0])\n",
        "    if col:\n",
        "        for k in range(pdDataFrame.shape[0]):\n",
        "            d = pdDataFrame.iloc[k]\n",
        "            img = transformIMG(d, newShape=nuShape, color=col)\n",
        "            X.append(img[x**2 + y**2 <= .25*nuShape[0]**2,:])\n",
        "            Y.append( d['ClassId'] )\n",
        "    else:\n",
        "        for k in range(pdDataFrame.shape[0]):\n",
        "            d = pdDataFrame.iloc[k]\n",
        "            img = transformIMG(d, newShape=nuShape)\n",
        "            X.append(img[x**2 + y**2 <= .25*nuShape[0]**2])\n",
        "            Y.append( d['ClassId'] )\n",
        "    return(np.asarray(X), np.asarray(Y))"
      ],
      "metadata": {
        "execution": {
          "iopub.status.busy": "2022-08-09T18:11:12.169715Z",
          "iopub.execute_input": "2022-08-09T18:11:12.170144Z",
          "iopub.status.idle": "2022-08-09T18:11:12.190815Z",
          "shell.execute_reply.started": "2022-08-09T18:11:12.170111Z",
          "shell.execute_reply": "2022-08-09T18:11:12.189689Z"
        },
        "trusted": true,
        "id": "m6Ndwt3CQf-Y"
      },
      "execution_count": null,
      "outputs": []
    },
    {
      "cell_type": "markdown",
      "source": [
        "### Load full data set"
      ],
      "metadata": {
        "id": "hz8IQXUjQf-Y"
      }
    },
    {
      "cell_type": "code",
      "source": [
        "data = pd.read_csv('../input/gtsrb-german-traffic-sign/Train.csv')\n",
        "nuShape = (20,20)\n",
        "X, Y = prepData(data, nuShape)"
      ],
      "metadata": {
        "execution": {
          "iopub.status.busy": "2022-08-09T18:11:20.551625Z",
          "iopub.execute_input": "2022-08-09T18:11:20.55202Z",
          "iopub.status.idle": "2022-08-09T18:17:32.676357Z",
          "shell.execute_reply.started": "2022-08-09T18:11:20.551989Z",
          "shell.execute_reply": "2022-08-09T18:17:32.674657Z"
        },
        "trusted": true,
        "id": "wUV3DJ-SQf-Y"
      },
      "execution_count": null,
      "outputs": []
    },
    {
      "cell_type": "markdown",
      "source": [
        "### reduce amount of data using PCA"
      ],
      "metadata": {
        "id": "lBzwpCjrQf-Z"
      }
    },
    {
      "cell_type": "code",
      "source": [
        "myPCA = PCA(n_components=100)\n",
        "XPCA = myPCA.fit_transform(X)"
      ],
      "metadata": {
        "execution": {
          "iopub.status.busy": "2022-08-09T18:17:43.872623Z",
          "iopub.execute_input": "2022-08-09T18:17:43.873008Z",
          "iopub.status.idle": "2022-08-09T18:17:46.61989Z",
          "shell.execute_reply.started": "2022-08-09T18:17:43.872979Z",
          "shell.execute_reply": "2022-08-09T18:17:46.618689Z"
        },
        "trusted": true,
        "id": "gRTHHHNWQf-Z"
      },
      "execution_count": null,
      "outputs": []
    },
    {
      "cell_type": "code",
      "source": [
        "XFTrain, XFTest, YFTrain, YFTest = train_test_split(XPCA, Y, test_size=.55, random_state=42)#"
      ],
      "metadata": {
        "execution": {
          "iopub.status.busy": "2022-08-09T18:17:55.926459Z",
          "iopub.execute_input": "2022-08-09T18:17:55.926877Z",
          "iopub.status.idle": "2022-08-09T18:17:55.951739Z",
          "shell.execute_reply.started": "2022-08-09T18:17:55.926842Z",
          "shell.execute_reply": "2022-08-09T18:17:55.950744Z"
        },
        "trusted": true,
        "id": "n52yNPLqQf-Z"
      },
      "execution_count": null,
      "outputs": []
    },
    {
      "cell_type": "markdown",
      "source": [
        "### quick check of random forest and MLP: computation time and first scores with default settings"
      ],
      "metadata": {
        "id": "JSO5eghdQf-Z"
      }
    },
    {
      "cell_type": "code",
      "source": [
        "settingsRFC = {'n_jobs' : 8}\n",
        "o = doML(RandomForestClassifier, settingsRFC, XFTrain, YFTrain, XFTest, YFTest, title='Random Forest Classifier')"
      ],
      "metadata": {
        "execution": {
          "iopub.status.busy": "2022-08-09T18:18:05.955091Z",
          "iopub.execute_input": "2022-08-09T18:18:05.955534Z",
          "iopub.status.idle": "2022-08-09T18:18:26.55075Z",
          "shell.execute_reply.started": "2022-08-09T18:18:05.955497Z",
          "shell.execute_reply": "2022-08-09T18:18:26.549786Z"
        },
        "trusted": true,
        "id": "sLLbwugAQf-Z",
        "outputId": "5077f5a1-3d4d-43ba-d48e-997322880ae1",
        "colab": {
          "base_uri": "https://localhost:8080/"
        }
      },
      "execution_count": null,
      "outputs": [
        {
          "output_type": "stream",
          "name": "stdout",
          "text": [
            "====   Random Forest Classifier   ====\n",
            "<class 'sklearn.ensemble._forest.RandomForestClassifier'>\n",
            "{'n_jobs': 8}\n",
            "              precision    recall  f1-score   support\n",
            "\n",
            "           0       1.00      0.20      0.33       112\n",
            "           1       0.69      0.78      0.73      1215\n",
            "           2       0.64      0.75      0.69      1231\n",
            "           3       0.58      0.49      0.53       767\n",
            "           4       0.65      0.70      0.67      1109\n",
            "           5       0.42      0.47      0.44      1027\n",
            "           6       0.68      0.84      0.75       226\n",
            "           7       0.68      0.54      0.60       797\n",
            "           8       0.52      0.46      0.49       794\n",
            "           9       0.95      0.85      0.89       860\n",
            "          10       0.72      0.90      0.80      1067\n",
            "          11       0.71      0.86      0.78       673\n",
            "          12       0.78      0.94      0.85      1168\n",
            "          13       0.89      0.95      0.92      1151\n",
            "          14       0.99      0.94      0.96       429\n",
            "          15       0.96      0.63      0.76       333\n",
            "          16       0.98      0.73      0.84       218\n",
            "          17       0.97      0.98      0.97       606\n",
            "          18       0.70      0.81      0.75       665\n",
            "          19       0.96      0.54      0.69       122\n",
            "          20       0.93      0.34      0.50       204\n",
            "          21       0.87      0.44      0.59       187\n",
            "          22       0.97      0.78      0.86       214\n",
            "          23       0.88      0.61      0.72       284\n",
            "          24       1.00      0.26      0.41       146\n",
            "          25       0.63      0.90      0.74       813\n",
            "          26       0.82      0.65      0.72       328\n",
            "          27       0.97      0.25      0.39       142\n",
            "          28       0.88      0.72      0.79       302\n",
            "          29       1.00      0.31      0.47       163\n",
            "          30       0.78      0.59      0.67       242\n",
            "          31       0.69      0.69      0.69       448\n",
            "          32       0.92      0.62      0.74       128\n",
            "          33       0.95      0.91      0.93       371\n",
            "          34       0.98      0.80      0.88       252\n",
            "          35       0.94      0.90      0.92       655\n",
            "          36       1.00      0.76      0.87       219\n",
            "          37       0.99      0.89      0.94       120\n",
            "          38       0.77      0.96      0.86      1157\n",
            "          39       1.00      0.85      0.92       152\n",
            "          40       0.99      0.52      0.68       194\n",
            "          41       0.95      0.69      0.80       140\n",
            "          42       0.89      0.37      0.53       134\n",
            "\n",
            "    accuracy                           0.75     21565\n",
            "   macro avg       0.84      0.68      0.72     21565\n",
            "weighted avg       0.77      0.75      0.74     21565\n",
            "\n",
            "===========================================================================\n",
            "computation time = 29.8663809299469 s\n"
          ]
        }
      ]
    },
    {
      "cell_type": "code",
      "source": [
        "settingsMLP = {}\n",
        "o = doML(MLPClassifier, settingsMLP, XFTrain, YFTrain, XFTest, YFTest, title=None)"
      ],
      "metadata": {
        "execution": {
          "iopub.status.busy": "2022-08-09T18:18:40.731455Z",
          "iopub.execute_input": "2022-08-09T18:18:40.731844Z",
          "iopub.status.idle": "2022-08-09T18:19:26.847112Z",
          "shell.execute_reply.started": "2022-08-09T18:18:40.731815Z",
          "shell.execute_reply": "2022-08-09T18:19:26.845564Z"
        },
        "trusted": true,
        "id": "ypIqL13BQf-a",
        "outputId": "83a8db11-ff4f-4a39-c723-9ccbb15f16ee",
        "colab": {
          "base_uri": "https://localhost:8080/"
        }
      },
      "execution_count": null,
      "outputs": [
        {
          "output_type": "stream",
          "name": "stdout",
          "text": [
            "===========================================================================\n",
            "<class 'sklearn.neural_network._multilayer_perceptron.MLPClassifier'>\n",
            "{}\n",
            "              precision    recall  f1-score   support\n",
            "\n",
            "           0       0.79      0.72      0.76       112\n",
            "           1       0.79      0.76      0.77      1215\n",
            "           2       0.69      0.79      0.73      1231\n",
            "           3       0.58      0.63      0.60       767\n",
            "           4       0.70      0.72      0.71      1109\n",
            "           5       0.57      0.49      0.53      1027\n",
            "           6       0.75      0.76      0.75       226\n",
            "           7       0.67      0.62      0.64       797\n",
            "           8       0.63      0.58      0.61       794\n",
            "           9       0.89      0.85      0.87       860\n",
            "          10       0.81      0.86      0.84      1067\n",
            "          11       0.81      0.83      0.82       673\n",
            "          12       0.89      0.86      0.88      1168\n",
            "          13       0.93      0.94      0.94      1151\n",
            "          14       0.99      0.95      0.97       429\n",
            "          15       0.82      0.82      0.82       333\n",
            "          16       0.84      0.88      0.86       218\n",
            "          17       0.95      0.95      0.95       606\n",
            "          18       0.77      0.76      0.77       665\n",
            "          19       0.61      0.67      0.64       122\n",
            "          20       0.53      0.52      0.53       204\n",
            "          21       0.67      0.69      0.68       187\n",
            "          22       0.88      0.92      0.90       214\n",
            "          23       0.63      0.68      0.66       284\n",
            "          24       0.62      0.68      0.65       146\n",
            "          25       0.85      0.82      0.83       813\n",
            "          26       0.66      0.70      0.68       328\n",
            "          27       0.72      0.59      0.65       142\n",
            "          28       0.85      0.72      0.78       302\n",
            "          29       0.71      0.69      0.70       163\n",
            "          30       0.61      0.67      0.64       242\n",
            "          31       0.67      0.68      0.67       448\n",
            "          32       0.75      0.74      0.75       128\n",
            "          33       0.86      0.88      0.87       371\n",
            "          34       0.90      0.87      0.88       252\n",
            "          35       0.90      0.90      0.90       655\n",
            "          36       0.89      0.86      0.87       219\n",
            "          37       0.92      0.97      0.95       120\n",
            "          38       0.87      0.87      0.87      1157\n",
            "          39       0.86      0.91      0.89       152\n",
            "          40       0.54      0.70      0.61       194\n",
            "          41       0.75      0.76      0.76       140\n",
            "          42       0.72      0.62      0.67       134\n",
            "\n",
            "    accuracy                           0.78     21565\n",
            "   macro avg       0.76      0.76      0.76     21565\n",
            "weighted avg       0.78      0.78      0.77     21565\n",
            "\n",
            "===========================================================================\n",
            "computation time = 20.26876711845398 s\n"
          ]
        }
      ]
    },
    {
      "cell_type": "markdown",
      "source": [
        "### quick CV of all methods using default settings"
      ],
      "metadata": {
        "id": "Vd39aUShQf-a"
      }
    },
    {
      "cell_type": "code",
      "source": [
        "gridRFC = {'n_jobs' : [8]}\n",
        "o = doCV(RandomForestClassifier, gridRFC, XPCA, Y, title='Random Forest')"
      ],
      "metadata": {
        "execution": {
          "iopub.status.busy": "2022-08-09T18:19:33.438918Z",
          "iopub.execute_input": "2022-08-09T18:19:33.439358Z",
          "iopub.status.idle": "2022-08-09T18:21:48.693031Z",
          "shell.execute_reply.started": "2022-08-09T18:19:33.43932Z",
          "shell.execute_reply": "2022-08-09T18:21:48.691693Z"
        },
        "trusted": true,
        "id": "jTe36S8TQf-a",
        "outputId": "43df6318-a139-46c4-dd0b-f2f68127fb5a",
        "colab": {
          "base_uri": "https://localhost:8080/",
          "height": 153
        }
      },
      "execution_count": null,
      "outputs": [
        {
          "output_type": "stream",
          "name": "stdout",
          "text": [
            "Random Forest\n"
          ]
        },
        {
          "output_type": "display_data",
          "data": {
            "text/plain": [
              "   mean_fit_time  std_fit_time  mean_score_time  std_score_time param_n_jobs  \\\n",
              "0      59.951654      3.778309         0.415855        0.071491            8   \n",
              "\n",
              "          params  split0_test_score  split1_test_score  split2_test_score  \\\n",
              "0  {'n_jobs': 8}           0.616297           0.682351           0.641928   \n",
              "\n",
              "   split3_test_score  split4_test_score  mean_test_score  std_test_score  \\\n",
              "0           0.635042           0.668155         0.648755        0.023636   \n",
              "\n",
              "   rank_test_score  \n",
              "0                1  "
            ],
            "text/html": [
              "\n",
              "  <div id=\"df-7b01ae76-c9dd-4033-94b7-7503d5a07243\" class=\"colab-df-container\">\n",
              "    <div>\n",
              "<style scoped>\n",
              "    .dataframe tbody tr th:only-of-type {\n",
              "        vertical-align: middle;\n",
              "    }\n",
              "\n",
              "    .dataframe tbody tr th {\n",
              "        vertical-align: top;\n",
              "    }\n",
              "\n",
              "    .dataframe thead th {\n",
              "        text-align: right;\n",
              "    }\n",
              "</style>\n",
              "<table border=\"1\" class=\"dataframe\">\n",
              "  <thead>\n",
              "    <tr style=\"text-align: right;\">\n",
              "      <th></th>\n",
              "      <th>mean_fit_time</th>\n",
              "      <th>std_fit_time</th>\n",
              "      <th>mean_score_time</th>\n",
              "      <th>std_score_time</th>\n",
              "      <th>param_n_jobs</th>\n",
              "      <th>params</th>\n",
              "      <th>split0_test_score</th>\n",
              "      <th>split1_test_score</th>\n",
              "      <th>split2_test_score</th>\n",
              "      <th>split3_test_score</th>\n",
              "      <th>split4_test_score</th>\n",
              "      <th>mean_test_score</th>\n",
              "      <th>std_test_score</th>\n",
              "      <th>rank_test_score</th>\n",
              "    </tr>\n",
              "  </thead>\n",
              "  <tbody>\n",
              "    <tr>\n",
              "      <th>0</th>\n",
              "      <td>59.951654</td>\n",
              "      <td>3.778309</td>\n",
              "      <td>0.415855</td>\n",
              "      <td>0.071491</td>\n",
              "      <td>8</td>\n",
              "      <td>{'n_jobs': 8}</td>\n",
              "      <td>0.616297</td>\n",
              "      <td>0.682351</td>\n",
              "      <td>0.641928</td>\n",
              "      <td>0.635042</td>\n",
              "      <td>0.668155</td>\n",
              "      <td>0.648755</td>\n",
              "      <td>0.023636</td>\n",
              "      <td>1</td>\n",
              "    </tr>\n",
              "  </tbody>\n",
              "</table>\n",
              "</div>\n",
              "    <div class=\"colab-df-buttons\">\n",
              "\n",
              "  <div class=\"colab-df-container\">\n",
              "    <button class=\"colab-df-convert\" onclick=\"convertToInteractive('df-7b01ae76-c9dd-4033-94b7-7503d5a07243')\"\n",
              "            title=\"Convert this dataframe to an interactive table.\"\n",
              "            style=\"display:none;\">\n",
              "\n",
              "  <svg xmlns=\"http://www.w3.org/2000/svg\" height=\"24px\" viewBox=\"0 -960 960 960\">\n",
              "    <path d=\"M120-120v-720h720v720H120Zm60-500h600v-160H180v160Zm220 220h160v-160H400v160Zm0 220h160v-160H400v160ZM180-400h160v-160H180v160Zm440 0h160v-160H620v160ZM180-180h160v-160H180v160Zm440 0h160v-160H620v160Z\"/>\n",
              "  </svg>\n",
              "    </button>\n",
              "\n",
              "  <style>\n",
              "    .colab-df-container {\n",
              "      display:flex;\n",
              "      gap: 12px;\n",
              "    }\n",
              "\n",
              "    .colab-df-convert {\n",
              "      background-color: #E8F0FE;\n",
              "      border: none;\n",
              "      border-radius: 50%;\n",
              "      cursor: pointer;\n",
              "      display: none;\n",
              "      fill: #1967D2;\n",
              "      height: 32px;\n",
              "      padding: 0 0 0 0;\n",
              "      width: 32px;\n",
              "    }\n",
              "\n",
              "    .colab-df-convert:hover {\n",
              "      background-color: #E2EBFA;\n",
              "      box-shadow: 0px 1px 2px rgba(60, 64, 67, 0.3), 0px 1px 3px 1px rgba(60, 64, 67, 0.15);\n",
              "      fill: #174EA6;\n",
              "    }\n",
              "\n",
              "    .colab-df-buttons div {\n",
              "      margin-bottom: 4px;\n",
              "    }\n",
              "\n",
              "    [theme=dark] .colab-df-convert {\n",
              "      background-color: #3B4455;\n",
              "      fill: #D2E3FC;\n",
              "    }\n",
              "\n",
              "    [theme=dark] .colab-df-convert:hover {\n",
              "      background-color: #434B5C;\n",
              "      box-shadow: 0px 1px 3px 1px rgba(0, 0, 0, 0.15);\n",
              "      filter: drop-shadow(0px 1px 2px rgba(0, 0, 0, 0.3));\n",
              "      fill: #FFFFFF;\n",
              "    }\n",
              "  </style>\n",
              "\n",
              "    <script>\n",
              "      const buttonEl =\n",
              "        document.querySelector('#df-7b01ae76-c9dd-4033-94b7-7503d5a07243 button.colab-df-convert');\n",
              "      buttonEl.style.display =\n",
              "        google.colab.kernel.accessAllowed ? 'block' : 'none';\n",
              "\n",
              "      async function convertToInteractive(key) {\n",
              "        const element = document.querySelector('#df-7b01ae76-c9dd-4033-94b7-7503d5a07243');\n",
              "        const dataTable =\n",
              "          await google.colab.kernel.invokeFunction('convertToInteractive',\n",
              "                                                    [key], {});\n",
              "        if (!dataTable) return;\n",
              "\n",
              "        const docLinkHtml = 'Like what you see? Visit the ' +\n",
              "          '<a target=\"_blank\" href=https://colab.research.google.com/notebooks/data_table.ipynb>data table notebook</a>'\n",
              "          + ' to learn more about interactive tables.';\n",
              "        element.innerHTML = '';\n",
              "        dataTable['output_type'] = 'display_data';\n",
              "        await google.colab.output.renderOutput(dataTable, element);\n",
              "        const docLink = document.createElement('div');\n",
              "        docLink.innerHTML = docLinkHtml;\n",
              "        element.appendChild(docLink);\n",
              "      }\n",
              "    </script>\n",
              "  </div>\n",
              "\n",
              "\n",
              "    </div>\n",
              "  </div>\n"
            ],
            "application/vnd.google.colaboratory.intrinsic+json": {
              "type": "dataframe",
              "summary": "{\n  \"name\": \"o = doCV(RandomForestClassifier, gridRFC, XPCA, Y, title='Random Forest')\",\n  \"rows\": 1,\n  \"fields\": [\n    {\n      \"column\": \"mean_fit_time\",\n      \"properties\": {\n        \"dtype\": \"number\",\n        \"std\": null,\n        \"min\": 59.95165410041809,\n        \"max\": 59.95165410041809,\n        \"num_unique_values\": 1,\n        \"samples\": [\n          59.95165410041809\n        ],\n        \"semantic_type\": \"\",\n        \"description\": \"\"\n      }\n    },\n    {\n      \"column\": \"std_fit_time\",\n      \"properties\": {\n        \"dtype\": \"number\",\n        \"std\": null,\n        \"min\": 3.7783094591065653,\n        \"max\": 3.7783094591065653,\n        \"num_unique_values\": 1,\n        \"samples\": [\n          3.7783094591065653\n        ],\n        \"semantic_type\": \"\",\n        \"description\": \"\"\n      }\n    },\n    {\n      \"column\": \"mean_score_time\",\n      \"properties\": {\n        \"dtype\": \"number\",\n        \"std\": null,\n        \"min\": 0.41585502624511717,\n        \"max\": 0.41585502624511717,\n        \"num_unique_values\": 1,\n        \"samples\": [\n          0.41585502624511717\n        ],\n        \"semantic_type\": \"\",\n        \"description\": \"\"\n      }\n    },\n    {\n      \"column\": \"std_score_time\",\n      \"properties\": {\n        \"dtype\": \"number\",\n        \"std\": null,\n        \"min\": 0.07149066487785564,\n        \"max\": 0.07149066487785564,\n        \"num_unique_values\": 1,\n        \"samples\": [\n          0.07149066487785564\n        ],\n        \"semantic_type\": \"\",\n        \"description\": \"\"\n      }\n    },\n    {\n      \"column\": \"param_n_jobs\",\n      \"properties\": {\n        \"dtype\": \"date\",\n        \"min\": 8,\n        \"max\": 8,\n        \"num_unique_values\": 1,\n        \"samples\": [\n          8\n        ],\n        \"semantic_type\": \"\",\n        \"description\": \"\"\n      }\n    },\n    {\n      \"column\": \"params\",\n      \"properties\": {\n        \"dtype\": \"object\",\n        \"semantic_type\": \"\",\n        \"description\": \"\"\n      }\n    },\n    {\n      \"column\": \"split0_test_score\",\n      \"properties\": {\n        \"dtype\": \"number\",\n        \"std\": null,\n        \"min\": 0.6162968630451415,\n        \"max\": 0.6162968630451415,\n        \"num_unique_values\": 1,\n        \"samples\": [\n          0.6162968630451415\n        ],\n        \"semantic_type\": \"\",\n        \"description\": \"\"\n      }\n    },\n    {\n      \"column\": \"split1_test_score\",\n      \"properties\": {\n        \"dtype\": \"number\",\n        \"std\": null,\n        \"min\": 0.6823514409589391,\n        \"max\": 0.6823514409589391,\n        \"num_unique_values\": 1,\n        \"samples\": [\n          0.6823514409589391\n        ],\n        \"semantic_type\": \"\",\n        \"description\": \"\"\n      }\n    },\n    {\n      \"column\": \"split2_test_score\",\n      \"properties\": {\n        \"dtype\": \"number\",\n        \"std\": null,\n        \"min\": 0.6419280795715379,\n        \"max\": 0.6419280795715379,\n        \"num_unique_values\": 1,\n        \"samples\": [\n          0.6419280795715379\n        ],\n        \"semantic_type\": \"\",\n        \"description\": \"\"\n      }\n    },\n    {\n      \"column\": \"split3_test_score\",\n      \"properties\": {\n        \"dtype\": \"number\",\n        \"std\": null,\n        \"min\": 0.6350420811017597,\n        \"max\": 0.6350420811017597,\n        \"num_unique_values\": 1,\n        \"samples\": [\n          0.6350420811017597\n        ],\n        \"semantic_type\": \"\",\n        \"description\": \"\"\n      }\n    },\n    {\n      \"column\": \"split4_test_score\",\n      \"properties\": {\n        \"dtype\": \"number\",\n        \"std\": null,\n        \"min\": 0.6681545721209029,\n        \"max\": 0.6681545721209029,\n        \"num_unique_values\": 1,\n        \"samples\": [\n          0.6681545721209029\n        ],\n        \"semantic_type\": \"\",\n        \"description\": \"\"\n      }\n    },\n    {\n      \"column\": \"mean_test_score\",\n      \"properties\": {\n        \"dtype\": \"number\",\n        \"std\": null,\n        \"min\": 0.6487546073596563,\n        \"max\": 0.6487546073596563,\n        \"num_unique_values\": 1,\n        \"samples\": [\n          0.6487546073596563\n        ],\n        \"semantic_type\": \"\",\n        \"description\": \"\"\n      }\n    },\n    {\n      \"column\": \"std_test_score\",\n      \"properties\": {\n        \"dtype\": \"number\",\n        \"std\": null,\n        \"min\": 0.023635760553184563,\n        \"max\": 0.023635760553184563,\n        \"num_unique_values\": 1,\n        \"samples\": [\n          0.023635760553184563\n        ],\n        \"semantic_type\": \"\",\n        \"description\": \"\"\n      }\n    },\n    {\n      \"column\": \"rank_test_score\",\n      \"properties\": {\n        \"dtype\": \"int32\",\n        \"num_unique_values\": 1,\n        \"samples\": [\n          1\n        ],\n        \"semantic_type\": \"\",\n        \"description\": \"\"\n      }\n    }\n  ]\n}"
            }
          },
          "metadata": {}
        },
        {
          "output_type": "stream",
          "name": "stdout",
          "text": [
            "computation time = 375.4058954715729 s\n"
          ]
        }
      ]
    },
    {
      "cell_type": "code",
      "source": [
        "gridMLP = {}\n",
        "o = doCV(MLPClassifier, gridMLP, XPCA, Y, title='MLP')"
      ],
      "metadata": {
        "execution": {
          "iopub.status.busy": "2022-08-09T18:21:48.695328Z",
          "iopub.execute_input": "2022-08-09T18:21:48.695866Z",
          "iopub.status.idle": "2022-08-09T18:26:40.514051Z",
          "shell.execute_reply.started": "2022-08-09T18:21:48.695822Z",
          "shell.execute_reply": "2022-08-09T18:26:40.511146Z"
        },
        "trusted": true,
        "id": "cJ5ZyIpsQf-a",
        "outputId": "d20b1e5f-22e4-48ae-90b3-5b53caa64757",
        "colab": {
          "base_uri": "https://localhost:8080/",
          "height": 135
        }
      },
      "execution_count": null,
      "outputs": [
        {
          "output_type": "stream",
          "name": "stdout",
          "text": [
            "MLP\n"
          ]
        },
        {
          "output_type": "display_data",
          "data": {
            "text/plain": [
              "   mean_fit_time  std_fit_time  mean_score_time  std_score_time params  \\\n",
              "0      56.206551     11.236441         0.032982        0.007687     {}   \n",
              "\n",
              "   split0_test_score  split1_test_score  split2_test_score  split3_test_score  \\\n",
              "0           0.684392           0.750701           0.711426           0.725835   \n",
              "\n",
              "   split4_test_score  mean_test_score  std_test_score  rank_test_score  \n",
              "0            0.74238         0.722947        0.023561                1  "
            ],
            "text/html": [
              "\n",
              "  <div id=\"df-a60c2244-46c5-41a2-94bc-e4977af40875\" class=\"colab-df-container\">\n",
              "    <div>\n",
              "<style scoped>\n",
              "    .dataframe tbody tr th:only-of-type {\n",
              "        vertical-align: middle;\n",
              "    }\n",
              "\n",
              "    .dataframe tbody tr th {\n",
              "        vertical-align: top;\n",
              "    }\n",
              "\n",
              "    .dataframe thead th {\n",
              "        text-align: right;\n",
              "    }\n",
              "</style>\n",
              "<table border=\"1\" class=\"dataframe\">\n",
              "  <thead>\n",
              "    <tr style=\"text-align: right;\">\n",
              "      <th></th>\n",
              "      <th>mean_fit_time</th>\n",
              "      <th>std_fit_time</th>\n",
              "      <th>mean_score_time</th>\n",
              "      <th>std_score_time</th>\n",
              "      <th>params</th>\n",
              "      <th>split0_test_score</th>\n",
              "      <th>split1_test_score</th>\n",
              "      <th>split2_test_score</th>\n",
              "      <th>split3_test_score</th>\n",
              "      <th>split4_test_score</th>\n",
              "      <th>mean_test_score</th>\n",
              "      <th>std_test_score</th>\n",
              "      <th>rank_test_score</th>\n",
              "    </tr>\n",
              "  </thead>\n",
              "  <tbody>\n",
              "    <tr>\n",
              "      <th>0</th>\n",
              "      <td>56.206551</td>\n",
              "      <td>11.236441</td>\n",
              "      <td>0.032982</td>\n",
              "      <td>0.007687</td>\n",
              "      <td>{}</td>\n",
              "      <td>0.684392</td>\n",
              "      <td>0.750701</td>\n",
              "      <td>0.711426</td>\n",
              "      <td>0.725835</td>\n",
              "      <td>0.74238</td>\n",
              "      <td>0.722947</td>\n",
              "      <td>0.023561</td>\n",
              "      <td>1</td>\n",
              "    </tr>\n",
              "  </tbody>\n",
              "</table>\n",
              "</div>\n",
              "    <div class=\"colab-df-buttons\">\n",
              "\n",
              "  <div class=\"colab-df-container\">\n",
              "    <button class=\"colab-df-convert\" onclick=\"convertToInteractive('df-a60c2244-46c5-41a2-94bc-e4977af40875')\"\n",
              "            title=\"Convert this dataframe to an interactive table.\"\n",
              "            style=\"display:none;\">\n",
              "\n",
              "  <svg xmlns=\"http://www.w3.org/2000/svg\" height=\"24px\" viewBox=\"0 -960 960 960\">\n",
              "    <path d=\"M120-120v-720h720v720H120Zm60-500h600v-160H180v160Zm220 220h160v-160H400v160Zm0 220h160v-160H400v160ZM180-400h160v-160H180v160Zm440 0h160v-160H620v160ZM180-180h160v-160H180v160Zm440 0h160v-160H620v160Z\"/>\n",
              "  </svg>\n",
              "    </button>\n",
              "\n",
              "  <style>\n",
              "    .colab-df-container {\n",
              "      display:flex;\n",
              "      gap: 12px;\n",
              "    }\n",
              "\n",
              "    .colab-df-convert {\n",
              "      background-color: #E8F0FE;\n",
              "      border: none;\n",
              "      border-radius: 50%;\n",
              "      cursor: pointer;\n",
              "      display: none;\n",
              "      fill: #1967D2;\n",
              "      height: 32px;\n",
              "      padding: 0 0 0 0;\n",
              "      width: 32px;\n",
              "    }\n",
              "\n",
              "    .colab-df-convert:hover {\n",
              "      background-color: #E2EBFA;\n",
              "      box-shadow: 0px 1px 2px rgba(60, 64, 67, 0.3), 0px 1px 3px 1px rgba(60, 64, 67, 0.15);\n",
              "      fill: #174EA6;\n",
              "    }\n",
              "\n",
              "    .colab-df-buttons div {\n",
              "      margin-bottom: 4px;\n",
              "    }\n",
              "\n",
              "    [theme=dark] .colab-df-convert {\n",
              "      background-color: #3B4455;\n",
              "      fill: #D2E3FC;\n",
              "    }\n",
              "\n",
              "    [theme=dark] .colab-df-convert:hover {\n",
              "      background-color: #434B5C;\n",
              "      box-shadow: 0px 1px 3px 1px rgba(0, 0, 0, 0.15);\n",
              "      filter: drop-shadow(0px 1px 2px rgba(0, 0, 0, 0.3));\n",
              "      fill: #FFFFFF;\n",
              "    }\n",
              "  </style>\n",
              "\n",
              "    <script>\n",
              "      const buttonEl =\n",
              "        document.querySelector('#df-a60c2244-46c5-41a2-94bc-e4977af40875 button.colab-df-convert');\n",
              "      buttonEl.style.display =\n",
              "        google.colab.kernel.accessAllowed ? 'block' : 'none';\n",
              "\n",
              "      async function convertToInteractive(key) {\n",
              "        const element = document.querySelector('#df-a60c2244-46c5-41a2-94bc-e4977af40875');\n",
              "        const dataTable =\n",
              "          await google.colab.kernel.invokeFunction('convertToInteractive',\n",
              "                                                    [key], {});\n",
              "        if (!dataTable) return;\n",
              "\n",
              "        const docLinkHtml = 'Like what you see? Visit the ' +\n",
              "          '<a target=\"_blank\" href=https://colab.research.google.com/notebooks/data_table.ipynb>data table notebook</a>'\n",
              "          + ' to learn more about interactive tables.';\n",
              "        element.innerHTML = '';\n",
              "        dataTable['output_type'] = 'display_data';\n",
              "        await google.colab.output.renderOutput(dataTable, element);\n",
              "        const docLink = document.createElement('div');\n",
              "        docLink.innerHTML = docLinkHtml;\n",
              "        element.appendChild(docLink);\n",
              "      }\n",
              "    </script>\n",
              "  </div>\n",
              "\n",
              "\n",
              "    </div>\n",
              "  </div>\n"
            ],
            "application/vnd.google.colaboratory.intrinsic+json": {
              "type": "dataframe",
              "summary": "{\n  \"name\": \"o = doCV(MLPClassifier, gridMLP, XPCA, Y, title='MLP')\",\n  \"rows\": 1,\n  \"fields\": [\n    {\n      \"column\": \"mean_fit_time\",\n      \"properties\": {\n        \"dtype\": \"number\",\n        \"std\": null,\n        \"min\": 56.2065511226654,\n        \"max\": 56.2065511226654,\n        \"num_unique_values\": 1,\n        \"samples\": [\n          56.2065511226654\n        ],\n        \"semantic_type\": \"\",\n        \"description\": \"\"\n      }\n    },\n    {\n      \"column\": \"std_fit_time\",\n      \"properties\": {\n        \"dtype\": \"number\",\n        \"std\": null,\n        \"min\": 11.236441404779091,\n        \"max\": 11.236441404779091,\n        \"num_unique_values\": 1,\n        \"samples\": [\n          11.236441404779091\n        ],\n        \"semantic_type\": \"\",\n        \"description\": \"\"\n      }\n    },\n    {\n      \"column\": \"mean_score_time\",\n      \"properties\": {\n        \"dtype\": \"number\",\n        \"std\": null,\n        \"min\": 0.032981586456298825,\n        \"max\": 0.032981586456298825,\n        \"num_unique_values\": 1,\n        \"samples\": [\n          0.032981586456298825\n        ],\n        \"semantic_type\": \"\",\n        \"description\": \"\"\n      }\n    },\n    {\n      \"column\": \"std_score_time\",\n      \"properties\": {\n        \"dtype\": \"number\",\n        \"std\": null,\n        \"min\": 0.007686571964434569,\n        \"max\": 0.007686571964434569,\n        \"num_unique_values\": 1,\n        \"samples\": [\n          0.007686571964434569\n        ],\n        \"semantic_type\": \"\",\n        \"description\": \"\"\n      }\n    },\n    {\n      \"column\": \"params\",\n      \"properties\": {\n        \"dtype\": \"object\",\n        \"semantic_type\": \"\",\n        \"description\": \"\"\n      }\n    },\n    {\n      \"column\": \"split0_test_score\",\n      \"properties\": {\n        \"dtype\": \"number\",\n        \"std\": null,\n        \"min\": 0.6843917368018363,\n        \"max\": 0.6843917368018363,\n        \"num_unique_values\": 1,\n        \"samples\": [\n          0.6843917368018363\n        ],\n        \"semantic_type\": \"\",\n        \"description\": \"\"\n      }\n    },\n    {\n      \"column\": \"split1_test_score\",\n      \"properties\": {\n        \"dtype\": \"number\",\n        \"std\": null,\n        \"min\": 0.7507013516959959,\n        \"max\": 0.7507013516959959,\n        \"num_unique_values\": 1,\n        \"samples\": [\n          0.7507013516959959\n        ],\n        \"semantic_type\": \"\",\n        \"description\": \"\"\n      }\n    },\n    {\n      \"column\": \"split2_test_score\",\n      \"properties\": {\n        \"dtype\": \"number\",\n        \"std\": null,\n        \"min\": 0.7114256567202244,\n        \"max\": 0.7114256567202244,\n        \"num_unique_values\": 1,\n        \"samples\": [\n          0.7114256567202244\n        ],\n        \"semantic_type\": \"\",\n        \"description\": \"\"\n      }\n    },\n    {\n      \"column\": \"split3_test_score\",\n      \"properties\": {\n        \"dtype\": \"number\",\n        \"std\": null,\n        \"min\": 0.7258352461106861,\n        \"max\": 0.7258352461106861,\n        \"num_unique_values\": 1,\n        \"samples\": [\n          0.7258352461106861\n        ],\n        \"semantic_type\": \"\",\n        \"description\": \"\"\n      }\n    },\n    {\n      \"column\": \"split4_test_score\",\n      \"properties\": {\n        \"dtype\": \"number\",\n        \"std\": null,\n        \"min\": 0.74237979849509,\n        \"max\": 0.74237979849509,\n        \"num_unique_values\": 1,\n        \"samples\": [\n          0.74237979849509\n        ],\n        \"semantic_type\": \"\",\n        \"description\": \"\"\n      }\n    },\n    {\n      \"column\": \"mean_test_score\",\n      \"properties\": {\n        \"dtype\": \"number\",\n        \"std\": null,\n        \"min\": 0.7229467579647665,\n        \"max\": 0.7229467579647665,\n        \"num_unique_values\": 1,\n        \"samples\": [\n          0.7229467579647665\n        ],\n        \"semantic_type\": \"\",\n        \"description\": \"\"\n      }\n    },\n    {\n      \"column\": \"std_test_score\",\n      \"properties\": {\n        \"dtype\": \"number\",\n        \"std\": null,\n        \"min\": 0.02356068476071482,\n        \"max\": 0.02356068476071482,\n        \"num_unique_values\": 1,\n        \"samples\": [\n          0.02356068476071482\n        ],\n        \"semantic_type\": \"\",\n        \"description\": \"\"\n      }\n    },\n    {\n      \"column\": \"rank_test_score\",\n      \"properties\": {\n        \"dtype\": \"int32\",\n        \"num_unique_values\": 1,\n        \"samples\": [\n          1\n        ],\n        \"semantic_type\": \"\",\n        \"description\": \"\"\n      }\n    }\n  ]\n}"
            }
          },
          "metadata": {}
        },
        {
          "output_type": "stream",
          "name": "stdout",
          "text": [
            "computation time = 334.5479383468628 s\n"
          ]
        }
      ]
    },
    {
      "cell_type": "markdown",
      "source": [
        "### Best RFC after Grid Search"
      ],
      "metadata": {
        "id": "ghU7amQiQf-a"
      }
    },
    {
      "cell_type": "code",
      "source": [
        "gridRFC = {'n_estimators' : 200, 'max_depth' : None, 'min_samples_split' : 10, \\\n",
        "           'max_features' : 'sqrt', 'max_leaf_nodes' : None, 'min_impurity_decrease' : 0.0, \\\n",
        "           'bootstrap' : False, 'oob_score' : False, 'class_weight' : 'balanced', \\\n",
        "           'ccp_alpha' : 0.0, 'max_samples' : None}\n",
        "o = doML(RandomForestClassifier, gridRFC, XFTrain, YFTrain, XFTest, YFTest, title='Best Random Forest')"
      ],
      "metadata": {
        "execution": {
          "iopub.status.busy": "2022-08-09T18:26:40.520102Z",
          "iopub.execute_input": "2022-08-09T18:26:40.521605Z",
          "iopub.status.idle": "2022-08-09T18:30:05.275824Z",
          "shell.execute_reply.started": "2022-08-09T18:26:40.521551Z",
          "shell.execute_reply": "2022-08-09T18:30:05.273516Z"
        },
        "trusted": true,
        "id": "2LBummzAQf-a",
        "outputId": "e9cbbf85-88d0-4992-9fed-ccbd66b8206a",
        "colab": {
          "base_uri": "https://localhost:8080/"
        }
      },
      "execution_count": null,
      "outputs": [
        {
          "output_type": "stream",
          "name": "stdout",
          "text": [
            "====   Best Random Forest   ====\n",
            "<class 'sklearn.ensemble._forest.RandomForestClassifier'>\n",
            "{'n_estimators': 200, 'max_depth': None, 'min_samples_split': 10, 'max_features': 'sqrt', 'max_leaf_nodes': None, 'min_impurity_decrease': 0.0, 'bootstrap': False, 'oob_score': False, 'class_weight': 'balanced', 'ccp_alpha': 0.0, 'max_samples': None}\n",
            "              precision    recall  f1-score   support\n",
            "\n",
            "           0       0.90      0.41      0.56       112\n",
            "           1       0.80      0.75      0.78      1215\n",
            "           2       0.78      0.71      0.74      1231\n",
            "           3       0.61      0.60      0.60       767\n",
            "           4       0.73      0.73      0.73      1109\n",
            "           5       0.51      0.47      0.49      1027\n",
            "           6       0.71      0.93      0.80       226\n",
            "           7       0.75      0.62      0.67       797\n",
            "           8       0.54      0.61      0.57       794\n",
            "           9       0.95      0.86      0.90       860\n",
            "          10       0.79      0.89      0.84      1067\n",
            "          11       0.86      0.84      0.85       673\n",
            "          12       0.80      0.94      0.87      1168\n",
            "          13       0.91      0.96      0.94      1151\n",
            "          14       0.99      0.96      0.97       429\n",
            "          15       0.88      0.83      0.85       333\n",
            "          16       0.98      0.81      0.89       218\n",
            "          17       0.97      0.98      0.97       606\n",
            "          18       0.78      0.80      0.79       665\n",
            "          19       0.85      0.76      0.80       122\n",
            "          20       0.79      0.51      0.62       204\n",
            "          21       0.95      0.66      0.78       187\n",
            "          22       0.93      0.93      0.93       214\n",
            "          23       0.90      0.73      0.80       284\n",
            "          24       0.94      0.58      0.71       146\n",
            "          25       0.73      0.92      0.81       813\n",
            "          26       0.77      0.78      0.78       328\n",
            "          27       0.98      0.60      0.74       142\n",
            "          28       0.87      0.79      0.83       302\n",
            "          29       0.97      0.71      0.82       163\n",
            "          30       0.66      0.74      0.70       242\n",
            "          31       0.68      0.79      0.73       448\n",
            "          32       0.87      0.72      0.79       128\n",
            "          33       0.90      0.93      0.92       371\n",
            "          34       0.94      0.88      0.91       252\n",
            "          35       0.95      0.93      0.94       655\n",
            "          36       0.97      0.83      0.90       219\n",
            "          37       0.97      0.94      0.96       120\n",
            "          38       0.77      0.97      0.85      1157\n",
            "          39       0.95      0.91      0.93       152\n",
            "          40       0.96      0.70      0.81       194\n",
            "          41       0.94      0.77      0.85       140\n",
            "          42       0.98      0.60      0.74       134\n",
            "\n",
            "    accuracy                           0.80     21565\n",
            "   macro avg       0.85      0.78      0.80     21565\n",
            "weighted avg       0.80      0.80      0.79     21565\n",
            "\n",
            "===========================================================================\n",
            "computation time = 137.0452070236206 s\n"
          ]
        }
      ]
    },
    {
      "cell_type": "code",
      "source": [
        "gridRFC = {'n_estimators' : [200], 'max_depth' : [None], 'min_samples_split' : [10], \\\n",
        "           'max_features' : ['sqrt'], 'max_leaf_nodes' : [None], 'min_impurity_decrease' : [0.0], \\\n",
        "           'bootstrap' : [False], 'oob_score' : [False], 'class_weight' : ['balanced'], \\\n",
        "           'ccp_alpha' : [0.0], 'max_samples' : [None]}\n",
        "o = doCV(RandomForestClassifier, gridRFC, XPCA, Y, title='best RFC')"
      ],
      "metadata": {
        "execution": {
          "iopub.status.busy": "2022-08-09T19:59:03.522009Z",
          "iopub.execute_input": "2022-08-09T19:59:03.522458Z",
          "iopub.status.idle": "2022-08-09T20:20:20.031359Z",
          "shell.execute_reply.started": "2022-08-09T19:59:03.522422Z",
          "shell.execute_reply": "2022-08-09T20:20:20.02989Z"
        },
        "trusted": true,
        "id": "ECXEV69cQf-a",
        "outputId": "6f40a6b8-8fef-47d8-d875-b7335faa4ac7",
        "colab": {
          "base_uri": "https://localhost:8080/",
          "height": 205
        }
      },
      "execution_count": null,
      "outputs": [
        {
          "output_type": "stream",
          "name": "stdout",
          "text": [
            "best RFC\n"
          ]
        },
        {
          "output_type": "display_data",
          "data": {
            "text/plain": [
              "   mean_fit_time  std_fit_time  mean_score_time  std_score_time  \\\n",
              "0     259.529514      3.179032         0.821562        0.030516   \n",
              "\n",
              "  param_bootstrap param_ccp_alpha param_class_weight param_max_depth  \\\n",
              "0           False             0.0           balanced            None   \n",
              "\n",
              "  param_max_features param_max_leaf_nodes param_max_samples  \\\n",
              "0               sqrt                 None              None   \n",
              "\n",
              "  param_min_impurity_decrease param_min_samples_split param_n_estimators  \\\n",
              "0                         0.0                      10                200   \n",
              "\n",
              "  param_oob_score                                             params  \\\n",
              "0           False  {'bootstrap': False, 'ccp_alpha': 0.0, 'class_...   \n",
              "\n",
              "   split0_test_score  split1_test_score  split2_test_score  split3_test_score  \\\n",
              "0           0.650854           0.704795           0.658761           0.660418   \n",
              "\n",
              "   split4_test_score  mean_test_score  std_test_score  rank_test_score  \n",
              "0           0.690728         0.673111        0.020864                1  "
            ],
            "text/html": [
              "\n",
              "  <div id=\"df-bf100e5e-d4b0-4aa8-ae9e-3785224d7fda\" class=\"colab-df-container\">\n",
              "    <div>\n",
              "<style scoped>\n",
              "    .dataframe tbody tr th:only-of-type {\n",
              "        vertical-align: middle;\n",
              "    }\n",
              "\n",
              "    .dataframe tbody tr th {\n",
              "        vertical-align: top;\n",
              "    }\n",
              "\n",
              "    .dataframe thead th {\n",
              "        text-align: right;\n",
              "    }\n",
              "</style>\n",
              "<table border=\"1\" class=\"dataframe\">\n",
              "  <thead>\n",
              "    <tr style=\"text-align: right;\">\n",
              "      <th></th>\n",
              "      <th>mean_fit_time</th>\n",
              "      <th>std_fit_time</th>\n",
              "      <th>mean_score_time</th>\n",
              "      <th>std_score_time</th>\n",
              "      <th>param_bootstrap</th>\n",
              "      <th>param_ccp_alpha</th>\n",
              "      <th>param_class_weight</th>\n",
              "      <th>param_max_depth</th>\n",
              "      <th>param_max_features</th>\n",
              "      <th>param_max_leaf_nodes</th>\n",
              "      <th>param_max_samples</th>\n",
              "      <th>param_min_impurity_decrease</th>\n",
              "      <th>param_min_samples_split</th>\n",
              "      <th>param_n_estimators</th>\n",
              "      <th>param_oob_score</th>\n",
              "      <th>params</th>\n",
              "      <th>split0_test_score</th>\n",
              "      <th>split1_test_score</th>\n",
              "      <th>split2_test_score</th>\n",
              "      <th>split3_test_score</th>\n",
              "      <th>split4_test_score</th>\n",
              "      <th>mean_test_score</th>\n",
              "      <th>std_test_score</th>\n",
              "      <th>rank_test_score</th>\n",
              "    </tr>\n",
              "  </thead>\n",
              "  <tbody>\n",
              "    <tr>\n",
              "      <th>0</th>\n",
              "      <td>259.529514</td>\n",
              "      <td>3.179032</td>\n",
              "      <td>0.821562</td>\n",
              "      <td>0.030516</td>\n",
              "      <td>False</td>\n",
              "      <td>0.0</td>\n",
              "      <td>balanced</td>\n",
              "      <td>None</td>\n",
              "      <td>sqrt</td>\n",
              "      <td>None</td>\n",
              "      <td>None</td>\n",
              "      <td>0.0</td>\n",
              "      <td>10</td>\n",
              "      <td>200</td>\n",
              "      <td>False</td>\n",
              "      <td>{'bootstrap': False, 'ccp_alpha': 0.0, 'class_...</td>\n",
              "      <td>0.650854</td>\n",
              "      <td>0.704795</td>\n",
              "      <td>0.658761</td>\n",
              "      <td>0.660418</td>\n",
              "      <td>0.690728</td>\n",
              "      <td>0.673111</td>\n",
              "      <td>0.020864</td>\n",
              "      <td>1</td>\n",
              "    </tr>\n",
              "  </tbody>\n",
              "</table>\n",
              "</div>\n",
              "    <div class=\"colab-df-buttons\">\n",
              "\n",
              "  <div class=\"colab-df-container\">\n",
              "    <button class=\"colab-df-convert\" onclick=\"convertToInteractive('df-bf100e5e-d4b0-4aa8-ae9e-3785224d7fda')\"\n",
              "            title=\"Convert this dataframe to an interactive table.\"\n",
              "            style=\"display:none;\">\n",
              "\n",
              "  <svg xmlns=\"http://www.w3.org/2000/svg\" height=\"24px\" viewBox=\"0 -960 960 960\">\n",
              "    <path d=\"M120-120v-720h720v720H120Zm60-500h600v-160H180v160Zm220 220h160v-160H400v160Zm0 220h160v-160H400v160ZM180-400h160v-160H180v160Zm440 0h160v-160H620v160ZM180-180h160v-160H180v160Zm440 0h160v-160H620v160Z\"/>\n",
              "  </svg>\n",
              "    </button>\n",
              "\n",
              "  <style>\n",
              "    .colab-df-container {\n",
              "      display:flex;\n",
              "      gap: 12px;\n",
              "    }\n",
              "\n",
              "    .colab-df-convert {\n",
              "      background-color: #E8F0FE;\n",
              "      border: none;\n",
              "      border-radius: 50%;\n",
              "      cursor: pointer;\n",
              "      display: none;\n",
              "      fill: #1967D2;\n",
              "      height: 32px;\n",
              "      padding: 0 0 0 0;\n",
              "      width: 32px;\n",
              "    }\n",
              "\n",
              "    .colab-df-convert:hover {\n",
              "      background-color: #E2EBFA;\n",
              "      box-shadow: 0px 1px 2px rgba(60, 64, 67, 0.3), 0px 1px 3px 1px rgba(60, 64, 67, 0.15);\n",
              "      fill: #174EA6;\n",
              "    }\n",
              "\n",
              "    .colab-df-buttons div {\n",
              "      margin-bottom: 4px;\n",
              "    }\n",
              "\n",
              "    [theme=dark] .colab-df-convert {\n",
              "      background-color: #3B4455;\n",
              "      fill: #D2E3FC;\n",
              "    }\n",
              "\n",
              "    [theme=dark] .colab-df-convert:hover {\n",
              "      background-color: #434B5C;\n",
              "      box-shadow: 0px 1px 3px 1px rgba(0, 0, 0, 0.15);\n",
              "      filter: drop-shadow(0px 1px 2px rgba(0, 0, 0, 0.3));\n",
              "      fill: #FFFFFF;\n",
              "    }\n",
              "  </style>\n",
              "\n",
              "    <script>\n",
              "      const buttonEl =\n",
              "        document.querySelector('#df-bf100e5e-d4b0-4aa8-ae9e-3785224d7fda button.colab-df-convert');\n",
              "      buttonEl.style.display =\n",
              "        google.colab.kernel.accessAllowed ? 'block' : 'none';\n",
              "\n",
              "      async function convertToInteractive(key) {\n",
              "        const element = document.querySelector('#df-bf100e5e-d4b0-4aa8-ae9e-3785224d7fda');\n",
              "        const dataTable =\n",
              "          await google.colab.kernel.invokeFunction('convertToInteractive',\n",
              "                                                    [key], {});\n",
              "        if (!dataTable) return;\n",
              "\n",
              "        const docLinkHtml = 'Like what you see? Visit the ' +\n",
              "          '<a target=\"_blank\" href=https://colab.research.google.com/notebooks/data_table.ipynb>data table notebook</a>'\n",
              "          + ' to learn more about interactive tables.';\n",
              "        element.innerHTML = '';\n",
              "        dataTable['output_type'] = 'display_data';\n",
              "        await google.colab.output.renderOutput(dataTable, element);\n",
              "        const docLink = document.createElement('div');\n",
              "        docLink.innerHTML = docLinkHtml;\n",
              "        element.appendChild(docLink);\n",
              "      }\n",
              "    </script>\n",
              "  </div>\n",
              "\n",
              "\n",
              "    </div>\n",
              "  </div>\n"
            ],
            "application/vnd.google.colaboratory.intrinsic+json": {
              "type": "dataframe"
            }
          },
          "metadata": {}
        },
        {
          "output_type": "stream",
          "name": "stdout",
          "text": [
            "computation time = 1632.4902772903442 s\n"
          ]
        }
      ]
    },
    {
      "cell_type": "markdown",
      "source": [
        "### best MLP after Grid Search"
      ],
      "metadata": {
        "id": "gBrweW6_Qf-b"
      }
    },
    {
      "cell_type": "code",
      "source": [
        "gridMLP = {'hidden_layer_sizes' : [(500)], 'activation' : ['relu'], 'max_iter' : [2000], \\\n",
        "          'solver' : ['adam'], 'batch_size' : [100], 'learning_rate' : ['constant']}\n",
        "o = doCV(MLPClassifier, gridMLP, XPCA, Y, title='MLP')"
      ],
      "metadata": {
        "execution": {
          "iopub.status.busy": "2022-08-09T19:30:38.425548Z",
          "iopub.execute_input": "2022-08-09T19:30:38.426721Z",
          "iopub.status.idle": "2022-08-09T19:43:58.763515Z",
          "shell.execute_reply.started": "2022-08-09T19:30:38.426667Z",
          "shell.execute_reply": "2022-08-09T19:43:58.759371Z"
        },
        "trusted": true,
        "id": "ij4nMf58Qf-b",
        "colab": {
          "base_uri": "https://localhost:8080/",
          "height": 176
        },
        "outputId": "2e71fe39-ccb0-4c69-97b5-3ea3d33ab680"
      },
      "execution_count": null,
      "outputs": [
        {
          "output_type": "error",
          "ename": "NameError",
          "evalue": "name 'doCV' is not defined",
          "traceback": [
            "\u001b[0;31m---------------------------------------------------------------------------\u001b[0m",
            "\u001b[0;31mNameError\u001b[0m                                 Traceback (most recent call last)",
            "\u001b[0;32m<ipython-input-4-e9510f50cc9a>\u001b[0m in \u001b[0;36m<cell line: 3>\u001b[0;34m()\u001b[0m\n\u001b[1;32m      1\u001b[0m gridMLP = {'hidden_layer_sizes' : [(500)], 'activation' : ['relu'], 'max_iter' : [2000], \\\n\u001b[1;32m      2\u001b[0m           'solver' : ['adam'], 'batch_size' : [100], 'learning_rate' : ['constant']}\n\u001b[0;32m----> 3\u001b[0;31m \u001b[0mo\u001b[0m \u001b[0;34m=\u001b[0m \u001b[0mdoCV\u001b[0m\u001b[0;34m(\u001b[0m\u001b[0mMLPClassifier\u001b[0m\u001b[0;34m,\u001b[0m \u001b[0mgridMLP\u001b[0m\u001b[0;34m,\u001b[0m \u001b[0mXPCA\u001b[0m\u001b[0;34m,\u001b[0m \u001b[0mY\u001b[0m\u001b[0;34m,\u001b[0m \u001b[0mtitle\u001b[0m\u001b[0;34m=\u001b[0m\u001b[0;34m'MLP'\u001b[0m\u001b[0;34m)\u001b[0m\u001b[0;34m\u001b[0m\u001b[0;34m\u001b[0m\u001b[0m\n\u001b[0m",
            "\u001b[0;31mNameError\u001b[0m: name 'doCV' is not defined"
          ]
        }
      ]
    },
    {
      "cell_type": "code",
      "source": [
        "settingsMLP = {'hidden_layer_sizes' : (500), 'activation' : 'relu', 'max_iter' : 2000, \\\n",
        "          'solver' : 'adam', 'batch_size' : 100, 'learning_rate' : 'constant'}\n",
        "res = doML(MLPClassifier, settingsMLP, XFTrain, YFTrain, XFTest, YFTest, title='best MLP')"
      ],
      "metadata": {
        "scrolled": true,
        "execution": {
          "iopub.status.busy": "2022-08-09T19:44:15.344734Z",
          "iopub.execute_input": "2022-08-09T19:44:15.345655Z",
          "iopub.status.idle": "2022-08-09T19:46:14.044804Z",
          "shell.execute_reply.started": "2022-08-09T19:44:15.345572Z",
          "shell.execute_reply": "2022-08-09T19:46:14.039664Z"
        },
        "trusted": true,
        "id": "G9z5sCoXQf-b"
      },
      "execution_count": null,
      "outputs": []
    },
    {
      "cell_type": "code",
      "source": [
        "settingsMLP = {'hidden_layer_sizes' : (500), 'activation' : 'relu', 'max_iter' : 2000, \\\n",
        "          'solver' : 'adam', 'batch_size' : 100, 'learning_rate' : 'constant'}\n",
        "bestMLP = doML(MLPClassifier, settingsMLP, XPCA, Y, XPCA, Y, title='best MLP')"
      ],
      "metadata": {
        "execution": {
          "iopub.status.busy": "2022-08-09T19:46:24.464815Z",
          "iopub.execute_input": "2022-08-09T19:46:24.465338Z",
          "iopub.status.idle": "2022-08-09T19:48:44.778155Z",
          "shell.execute_reply.started": "2022-08-09T19:46:24.465298Z",
          "shell.execute_reply": "2022-08-09T19:48:44.77681Z"
        },
        "trusted": true,
        "id": "7CyWKQCQQf-b"
      },
      "execution_count": null,
      "outputs": []
    }
  ]
}